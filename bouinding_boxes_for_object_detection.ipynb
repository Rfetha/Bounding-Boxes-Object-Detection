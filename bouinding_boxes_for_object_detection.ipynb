{
 "cells": [
  {
   "cell_type": "code",
   "execution_count": null,
   "id": "initial_id",
   "metadata": {
    "collapsed": true,
    "is_executing": true,
    "ExecuteTime": {
     "start_time": "2023-09-08T09:26:53.472954300Z"
    }
   },
   "outputs": [],
   "source": [
    "import tensorflow as tf\n",
    "import tensorflow_hub as hub\n",
    "\n",
    "import matplotlib.pyplot as plt\n",
    "import tempfile\n",
    "from six.moves.urllib.request import urlopen\n",
    "from six import BytesIO\n",
    "\n",
    "import numpy as np\n",
    "from PIL import Image, ImageColor, ImageDraw, ImageFont, ImageOps\n",
    "import time"
   ]
  },
  {
   "cell_type": "code",
   "execution_count": null,
   "outputs": [],
   "source": [
    "module_handle = \"https://tfhub.dev/google/openimages_v4/ssd/mobilenet_v2/1\"\n",
    "\n",
    "model = hub.load(module_handle)"
   ],
   "metadata": {
    "collapsed": false,
    "is_executing": true,
    "ExecuteTime": {
     "start_time": "2023-09-08T09:26:53.508159900Z"
    }
   },
   "id": "da7fb98b62abf1dc"
  },
  {
   "cell_type": "code",
   "execution_count": null,
   "outputs": [],
   "source": [
    "model.signatures.keys()"
   ],
   "metadata": {
    "collapsed": false,
    "is_executing": true
   },
   "id": "9547f99786fa98ec"
  },
  {
   "cell_type": "code",
   "execution_count": null,
   "outputs": [],
   "source": [
    "detector = model.signatures['default']"
   ],
   "metadata": {
    "collapsed": false,
    "is_executing": true
   },
   "id": "a2c4751847f9627f"
  },
  {
   "cell_type": "code",
   "execution_count": null,
   "outputs": [],
   "source": [
    "def display_image(image):\n",
    "    fig = plt.figure(figsize=(20,15))\n",
    "    plt.grid(False)\n",
    "    plt.imshow(image)\n",
    "\n",
    "def download_and_resize_image(url, new_width=256, new_height=256, display=False):\n",
    "    _, filename = tempfile.mkstemp(suffix=\".jpg\")\n",
    "    response = urlopen(url)\n",
    "    image_data = response.read()\n",
    "    image_data = BytesIO(image_data)\n",
    "    pil_image = Image.open(image_data)\n",
    "    pil_image = ImageOps.fit(pil_image, (new_width, new_height), Image.LANCZOS)\n",
    "    pil_image_rgb = pil_image.convert(\"RGB\")\n",
    "    pil_image_rgb.save(filename, format=\"JPEG\", quality=90)\n",
    "    \n",
    "    print(\"Image downloaded to %s.\" % filename)\n",
    "    \n",
    "    if display:\n",
    "        display_image(pil_image)\n",
    "    \n",
    "    return filename"
   ],
   "metadata": {
    "collapsed": false,
    "is_executing": true
   },
   "id": "4c6a7aa110fcb4c7"
  },
  {
   "cell_type": "code",
   "execution_count": null,
   "outputs": [],
   "source": [
    "image_url = \"https://m.media-amazon.com/images/M/MV5BZjk1ZjliYTgtZWI0Yi00NmJiLTg5NmEtMDQ0ODM1OGE2ZDIwXkEyXkFqcGdeQXRyYW5zY29kZS13b3JrZmxvdw@@._V1_.jpg\"\n",
    "#https://upload.wikimedia.org/wikipedia/commons/6/60/Naxos_Taverna.jpg\n",
    "#https://www.verywellhealth.com/thmb/yV6RJjwnJs8lqaOUSx-dWnQvFfU=/1500x0/filters:no_upscale():max_bytes(150000):strip_icc()/fruits-to-avoid-if-you-have-diabetes-1087587-primary-recirc-3a95a09a48cb46b49d5632326f9405d3.jpg\n",
    "\n",
    "downloaded_image_path = download_and_resize_image(image_url, 1280, 856, True)"
   ],
   "metadata": {
    "collapsed": false,
    "is_executing": true
   },
   "id": "d57e1a0a9a954771"
  },
  {
   "cell_type": "code",
   "execution_count": null,
   "outputs": [],
   "source": [
    "def draw_bounding_box_on_image(image, y_min, x_min, y_max, x_max,\n",
    "                               color, font, thickness=4, display_str_list=()):\n",
    "    draw = ImageDraw.Draw(image)\n",
    "    im_width, im_height = image.size\n",
    "    \n",
    "    #scaleing the bounding boxes\n",
    "    (left, right, top, bottom) = (x_min*im_width, x_max*im_width,\n",
    "                                  y_min*im_height, y_max*im_height)\n",
    "    \n",
    "    #defineing the edges of detection boxes \n",
    "    draw.line([(left, top), (left, bottom), \n",
    "               (right, bottom), (right, top), (left, top)],\n",
    "              width=thickness,\n",
    "              fill=color)\n",
    "    \n",
    "    \"\"\"If the total height of the display strings added to the top of the bounding box exceeds the top of the image, stack the strings below the bounding box instead of above.\"\"\" \n",
    "    #[font.getsize(ds)[1] for ds in display_str_list]\n",
    "\n",
    "    display_str_heights = [font.font.getsize(ds)[1] for ds in display_str_list]\n",
    "    total_display_str_height = (1 + 2 * 0.05) * sum(display_str_heights)\n",
    "    \n",
    "    if top > total_display_str_height:\n",
    "        text_bottom = top\n",
    "    else:\n",
    "        text_bottom = top + total_display_str_height\n",
    "        \n",
    "    # Reverse list and print from bottom to top.\n",
    "    for display_str in display_str_list[::-1]:\n",
    "        text_width, text_height = font.font.getsize(display_str)\n",
    "        margin = np.ceil(0.05 * text_height)\n",
    "        draw.rectangle([(left, text_bottom - text_height - 2 * margin),\n",
    "                        (left + text_width, text_bottom)],\n",
    "                       fill=color)\n",
    "        draw.text((left + margin, text_bottom - text_height - margin),\n",
    "                  display_str,\n",
    "                  fill=\"black\",\n",
    "                  font=font)\n",
    "        text_bottom -= text_height - 2 * margin"
   ],
   "metadata": {
    "collapsed": false,
    "is_executing": true
   },
   "id": "cc5f096cfa9cfcb9"
  },
  {
   "cell_type": "code",
   "execution_count": null,
   "outputs": [],
   "source": [
    "def draw_boxes(image, boxes, class_names, scores, max_boxes=10, min_score=0.1):\n",
    "    colors = list(ImageColor.colormap.values())\n",
    "\n",
    "    try:\n",
    "        font = ImageFont.truetype(\"/usr/share/fonts/truetype/liberation/LiberationSansNarrow-Regular.ttf\",\n",
    "                              25)\n",
    "    except IOError:\n",
    "        print(\"Font not found, using default font.\")\n",
    "        font = ImageFont.load_default()\n",
    "\n",
    "    for i in range(min(boxes.shape[0], max_boxes)):\n",
    "        \n",
    "        # only display detection boxes that have the minimum score or higher\n",
    "        if scores[i] >= min_score:\n",
    "            ymin, xmin, ymax, xmax = tuple(boxes[i])\n",
    "            display_str = \"{}: {}%\".format(class_names[i].decode(\"ascii\"),\n",
    "                                         int(100 * scores[i]))\n",
    "            color = colors[hash(class_names[i]) % len(colors)]\n",
    "            image_pil = Image.fromarray(np.uint8(image)).convert(\"RGB\")\n",
    "\n",
    "            # draw one bounding box and overlay the class labels onto the image\n",
    "            draw_bounding_box_on_image(image_pil,\n",
    "                                       ymin,\n",
    "                                       xmin,\n",
    "                                       ymax,\n",
    "                                       xmax,\n",
    "                                       color,\n",
    "                                       font,\n",
    "                                       display_str_list=[display_str])\n",
    "            np.copyto(image, np.array(image_pil))\n",
    "        \n",
    "    return image"
   ],
   "metadata": {
    "collapsed": false,
    "is_executing": true
   },
   "id": "e5a9a84c8c18d647"
  },
  {
   "cell_type": "code",
   "execution_count": null,
   "outputs": [],
   "source": [
    "def load_img(path):\n",
    "    img = tf.io.read_file(path)\n",
    "    img = tf.image.decode_jpeg(img, channels=3)\n",
    "    \n",
    "    return img"
   ],
   "metadata": {
    "collapsed": false,
    "is_executing": true
   },
   "id": "148521c7d59846c1"
  },
  {
   "cell_type": "code",
   "execution_count": null,
   "outputs": [],
   "source": [
    "def run_detector(detector, path):\n",
    "    img = load_img(path)\n",
    "    \n",
    "    converted_img = tf.image.convert_image_dtype(img, tf.float32)[tf.newaxis, ...]\n",
    "    \n",
    "    start_time = time.time()\n",
    "    result = detector(converted_img)\n",
    "    end_time = time.time()\n",
    "    \n",
    "    result = {key:value.numpy() for key,value in result.items()}\n",
    "    \n",
    "    print(\"Found %d objects.\" % len(result[\"detection_scores\"]))\n",
    "    print(\"Inference time: \", end_time-start_time)\n",
    "    \n",
    "    image_with_boxes = draw_boxes(img.numpy(), \n",
    "                                  result[\"detection_boxes\"],\n",
    "                                  result[\"detection_class_entities\"], \n",
    "                                  result[\"detection_scores\"])\n",
    "    \n",
    "    display_image(image_with_boxes)"
   ],
   "metadata": {
    "collapsed": false,
    "is_executing": true
   },
   "id": "5dd8528339da6973"
  },
  {
   "cell_type": "code",
   "execution_count": null,
   "outputs": [],
   "source": [
    "run_detector(detector, downloaded_image_path)"
   ],
   "metadata": {
    "collapsed": false,
    "is_executing": true
   },
   "id": "ab32283f1c60e0a"
  }
 ],
 "metadata": {
  "kernelspec": {
   "display_name": "Python 3",
   "language": "python",
   "name": "python3"
  },
  "language_info": {
   "codemirror_mode": {
    "name": "ipython",
    "version": 2
   },
   "file_extension": ".py",
   "mimetype": "text/x-python",
   "name": "python",
   "nbconvert_exporter": "python",
   "pygments_lexer": "ipython2",
   "version": "2.7.6"
  }
 },
 "nbformat": 4,
 "nbformat_minor": 5
}
